{
  "nbformat": 4,
  "nbformat_minor": 0,
  "metadata": {
    "colab": {
      "name": "Training _&_postprocesing_images_using_pytorch ",
      "provenance": [],
      "collapsed_sections": []
    },
    "kernelspec": {
      "name": "python3",
      "display_name": "Python 3"
    },
    "gpuClass": "standard",
    "accelerator": "GPU"
  },
  "cells": [
    {
      "cell_type": "code",
      "metadata": {
        "colab": {
          "base_uri": "https://localhost:8080/"
        },
        "id": "JZMf_VvYUDpM",
        "outputId": "37c48a56-8d67-4e48-d1b7-4bb44b6e4bba"
      },
      "source": [
        "from google.colab import drive\n",
        "drive.mount('/content/gdrive')"
      ],
      "execution_count": null,
      "outputs": [
        {
          "output_type": "stream",
          "name": "stdout",
          "text": [
            "Mounted at /content/gdrive\n"
          ]
        }
      ]
    },
    {
      "cell_type": "markdown",
      "source": [
        "#Ресайз обработанных изображений до разрешения 1024*1024"
      ],
      "metadata": {
        "id": "Qxv5y8OieVin"
      }
    },
    {
      "cell_type": "code",
      "source": [
        "import os\n",
        "import cv2\n",
        "\n",
        "images_names = os.listdir('/your_deoldify_images_path/') \n",
        "for name in images_names:\n",
        "    try:\n",
        "        image = cv2.imread(f'/your_deoldify_images_path/{name}')\n",
        "        resized = cv2.resize(image, (1024,1024)) \n",
        "        cv2.imwrite(f'/your_deoldify_images1024_path/{name}', resized) \n",
        "    except Exception:\n",
        "        pass\n"
      ],
      "metadata": {
        "id": "SNdBvpNVWp7D"
      },
      "execution_count": null,
      "outputs": []
    },
    {
      "cell_type": "markdown",
      "source": [
        "#Устанавливаем необходимые зависимости и клонируем проект с github"
      ],
      "metadata": {
        "id": "sbwiTGABYFuf"
      }
    },
    {
      "cell_type": "code",
      "source": [
        "!pip install pyspng ninja imageio-ffmpeg==0.4.3\n",
        "!git clone https://github.com/NVlabs/stylegan2-ada-pytorch\n",
        "!pip install gdown \n",
        "%cd ./stylegan2-ada-pytorch"
      ],
      "metadata": {
        "id": "O4txBwJ0YCyf"
      },
      "execution_count": null,
      "outputs": []
    },
    {
      "cell_type": "markdown",
      "source": [
        "#Подготовка данных перед обучением\n",
        "###Создаем zip архив с изображениями и их метаинформацией в формате json. Здесь необходимо указать путь к обработанным и ресайзнутым картинкам, так же указать путь к архиву, в котором будут хранится все тренировочные данные(архив создается автоматически)"
      ],
      "metadata": {
        "id": "CYCJszqPYuts"
      }
    },
    {
      "cell_type": "code",
      "source": [
        "!python dataset_tool.py --source=/your_deoldify_images1024_path/ --dest=/your_path/pics.zip"
      ],
      "metadata": {
        "id": "-2ygWwC_Ya4J"
      },
      "execution_count": null,
      "outputs": []
    },
    {
      "cell_type": "markdown",
      "source": [
        "#Тренировка модели \n",
        "###Здесь необходимо указать директорию в которой будет сохранятся результат обучения и указать подготовленный тренировочный архив pics.zip. Подробнее о передаваемых аргументах: https://github.com/NVlabs/stylegan2-ada-pytorch"
      ],
      "metadata": {
        "id": "v3HzB7EpZxRB"
      }
    },
    {
      "cell_type": "code",
      "source": [
        "!python train.py \\\n",
        "--outdir=/your_out_dir/ \\\n",
        "--data=/your_path/pics.zip \\\n",
        "--snap=10 \\\n",
        "--mirror=1 \\\n",
        "--gpus=1 \\\n",
        "--aug=ada \\\n",
        "--target=0.7"
      ],
      "metadata": {
        "id": "PSnzPgOFfD66"
      },
      "execution_count": null,
      "outputs": []
    },
    {
      "cell_type": "markdown",
      "source": [
        "#Генерация изображений на выбранной сети"
      ],
      "metadata": {
        "id": "p-fBHr3Zax-H"
      }
    },
    {
      "cell_type": "code",
      "source": [
        "!python generate.py \\\n",
        "--outdir=/your_out_dir/ \\\n",
        "--trunc=0.5 \\\n",
        "--seeds=50-100 \\\n",
        "--network=/your_network_path/"
      ],
      "metadata": {
        "id": "CVi1CLjCpyps"
      },
      "execution_count": null,
      "outputs": []
    },
    {
      "cell_type": "markdown",
      "source": [
        "#Постобработка изображений\n",
        "###Так как для тренировки сети необходимы квадратные изображения для лучшей сходимости и разрешение должно быть степенью 2, вначале мы изменили разрешение на 1024х1024, в таком разрешении оригинальное изображение сжато по ширине, его необходимо восстановить до исходных размеров 1280х960"
      ],
      "metadata": {
        "id": "iYvCaEZocCvr"
      }
    },
    {
      "cell_type": "code",
      "source": [
        "import os\n",
        "import cv2\n",
        "\n",
        "images_names = os.listdir('/your_generated_images_path/') \n",
        "for name in images_names:\n",
        "    try:\n",
        "        image = cv2.imread(f'/your_generated_images_path/{name}')\n",
        "        resized = cv2.resize(image, (1280,960)) \n",
        "        cv2.imwrite(f'/your_final_images_path/{name}', resized) \n",
        "    except Exception:\n",
        "        pass\n"
      ],
      "metadata": {
        "id": "xWYaAi9_c_J0"
      },
      "execution_count": null,
      "outputs": []
    }
  ]
}